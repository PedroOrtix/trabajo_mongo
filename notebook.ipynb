{
 "cells": [
  {
   "cell_type": "code",
   "execution_count": 1,
   "metadata": {},
   "outputs": [],
   "source": [
    "from queries_folder.get_queries import(get_loot,\n",
    "                                        get_loot_by_id,\n",
    "                                        get_monster,\n",
    "                                        get_monster_by_id,\n",
    "                                        get_dungeons,\n",
    "                                        get_dungeon_by_id,\n",
    "                                        get_room_by_id,\n",
    "                                        get_user,\n",
    "                                        get_user_by_email)\n",
    "\n",
    "from queries_folder.ppd_queries import (post_room, \n",
    "                                        post_loot, \n",
    "                                        post_monster)\n",
    "\n",
    "from queries_folder.ppd_queries import (put_room_connections,\n",
    "                                        put_room_loot,\n",
    "                                        put_room_monsters)\n",
    "\n",
    "from queries_folder.ppd_queries import (delete_loot, \n",
    "                                        delete_monster, \n",
    "                                        delete_room)"
   ]
  },
  {
   "cell_type": "code",
   "execution_count": 2,
   "metadata": {},
   "outputs": [],
   "source": [
    "from pymongo import MongoClient\n",
    "import json\n",
    "\n",
    "# Conexión a MongoDB\n",
    "client = MongoClient('mongodb://localhost:27017/')\n",
    "db = client['norsewind']  # Nombre de la base de datos\n",
    "\n",
    "# # Función para cargar datos desde un archivo JSON a una colección\n",
    "# def load_data(collection_name, file_path):\n",
    "#     collection = db[collection_name]\n",
    "#     with open(file_path, 'r') as file:\n",
    "#         data = json.load(file)\n",
    "#     collection.insert_many(data)\n",
    "#     print(f\"Datos insertados en {collection_name}\")\n",
    "\n",
    "# # Cargando los datos a las colecciones\n",
    "# load_data('loot', 'datos/loot.json')\n",
    "# load_data('monsters', 'datos/monster.json')\n",
    "# load_data('rooms', 'datos/rooms.json')\n",
    "# load_data('users', 'datos/users.json')\n"
   ]
  },
  {
   "cell_type": "markdown",
   "metadata": {},
   "source": [
    "### GET QUERIES"
   ]
  },
  {
   "cell_type": "code",
   "execution_count": null,
   "metadata": {},
   "outputs": [],
   "source": [
    "# Example usages of the imported functions\n",
    "print(\"Fetching all loot items:\")\n",
    "print(get_loot(db))\n",
    "\n",
    "print(\"\\nFetching details of a specific loot item by ID (assuming an ID of 1):\")\n",
    "print(get_loot_by_id(db, 2))\n",
    "\n",
    "print(\"\\nFetching all monsters:\")\n",
    "print(get_monster(db))\n",
    "\n",
    "print(\"\\nFetching details of a specific monster by ID (assuming an ID of 1):\")\n",
    "print(get_monster_by_id(db, 1))\n",
    "\n",
    "print(\"All Dungeons:\")\n",
    "print(get_dungeons(db))\n",
    "\n",
    "print(\"\\nDungeon Details for Dungeon ID 1:\")\n",
    "print(get_dungeon_by_id(db, 0))\n",
    "\n",
    "print(\"\\nFetching details of a specific room by ID (assuming an ID of 100):\")\n",
    "print(get_room_by_id(db, 100))\n",
    "\n",
    "print(\"\\nFetching all users:\")\n",
    "print(get_user(db))\n",
    "\n",
    "print(\"\\nFetching details of a specific user by email (assuming email 'aaoki@example.com'):\")\n",
    "print(get_user_by_email(db, 'aaoki@example.com'))"
   ]
  },
  {
   "cell_type": "markdown",
   "metadata": {},
   "source": [
    "### POST QUERIES"
   ]
  },
  {
   "cell_type": "code",
   "execution_count": 4,
   "metadata": {},
   "outputs": [
    {
     "name": "stdout",
     "output_type": "stream",
     "text": [
      "\n",
      "Adding a new monster:\n",
      "{\"status\": \"success\", \"message\": \"Monster added\"}\n",
      "\n",
      "Adding new loot:\n",
      "{\"status\": \"success\", \"message\": \"Loot added\"}\n",
      "\n",
      "Adding a new room:\n",
      "{\"status\": \"success\", \"message\": \"Room added\"}\n"
     ]
    }
   ],
   "source": [
    "# Example usages of the POST and DELETE functions\n",
    "# Note: Make sure to replace placeholder values with actual data suitable for your database\n",
    "\n",
    "print(\"\\nAdding a new monster:\")\n",
    "print(post_monster(db, 'Goblin', 'NPC', 5, 'Dark Forest', 120.0, 5))\n",
    "\n",
    "print(\"\\nAdding new loot:\")\n",
    "print(post_loot(db, 'Sword of Truth', 'Weapon', 'Sword', '2kg', 150))\n",
    "\n",
    "print(\"\\nAdding a new room:\")\n",
    "print(post_room(\n",
    "    db,\n",
    "    dungeon_id=101,\n",
    "    dungeon_name=\"Catacombs of the Damned\",\n",
    "    dungeon_lore=\"An ancient burial site filled with unspeakable horrors.\",\n",
    "    room_name=\"Entrance Hall\",\n",
    "    rooms_connected=[102, 103],\n",
    "    inWP=\"North Gate\",\n",
    "    outWP=\"South Vault\"\n",
    "))\n",
    "\n"
   ]
  },
  {
   "cell_type": "markdown",
   "metadata": {},
   "source": [
    "### PUT QUERIES"
   ]
  },
  {
   "cell_type": "code",
   "execution_count": 5,
   "metadata": {},
   "outputs": [
    {
     "name": "stdout",
     "output_type": "stream",
     "text": [
      "\n",
      "Actualizar los mounstruos de una room:\n",
      "{\"status\": \"success\", \"message\": \"Monsters updated in room\"}\n",
      "\n",
      "Actualizar los loot de una room:\n",
      "{\"status\": \"success\", \"message\": \"Loot updated in room\"}\n",
      "\n",
      "Actualizar las conexiones de una room:\n",
      "{\"status\": \"success\", \"message\": \"Room connections updated\"}\n"
     ]
    }
   ],
   "source": [
    "print(\"\\nActualizar los mounstruos de una room:\")\n",
    "print(put_room_monsters(\n",
    "    db,\n",
    "    room_id=105,\n",
    "    monsters=[201, 202]\n",
    "))\n",
    "\n",
    "print(\"\\nActualizar los loot de una room:\")\n",
    "print(put_room_loot(\n",
    "    db,\n",
    "    room_id=105,\n",
    "    loot=[301, 302]\n",
    "))\n",
    "\n",
    "print(\"\\nActualizar las conexiones de una room:\")\n",
    "print(put_room_connections(\n",
    "    db,\n",
    "    room_id=105,\n",
    "    connections=[104, 106]\n",
    "))"
   ]
  },
  {
   "cell_type": "markdown",
   "metadata": {},
   "source": [
    "### DELETE QUERIES"
   ]
  },
  {
   "cell_type": "code",
   "execution_count": 6,
   "metadata": {},
   "outputs": [
    {
     "name": "stdout",
     "output_type": "stream",
     "text": [
      "\n",
      "Deleting a room:\n",
      "{\"status\": \"success\", \"message\": \"Room and related comments deleted\"}\n",
      "\n",
      "Deleting a monster:\n",
      "{\"status\": \"success\", \"message\": \"Monster deleted\"}\n",
      "\n",
      "Deleting loot:\n",
      "{\"status\": \"success\", \"message\": \"Loot deleted\"}\n"
     ]
    }
   ],
   "source": [
    "# DELETE operations\n",
    "# Note: You must ensure these IDs exist for deletion, or replace them with valid ones\n",
    "print(\"\\nDeleting a room:\")\n",
    "print(delete_room(db, 101))\n",
    "\n",
    "print(\"\\nDeleting a monster:\")\n",
    "print(delete_monster(db, 1))  # Ensure this ID exists\n",
    "\n",
    "print(\"\\nDeleting loot:\")\n",
    "print(delete_loot(db, 1))  # Ensure this ID exists"
   ]
  }
 ],
 "metadata": {
  "kernelspec": {
   "display_name": "Python 3",
   "language": "python",
   "name": "python3"
  },
  "language_info": {
   "codemirror_mode": {
    "name": "ipython",
    "version": 3
   },
   "file_extension": ".py",
   "mimetype": "text/x-python",
   "name": "python",
   "nbconvert_exporter": "python",
   "pygments_lexer": "ipython3",
   "version": "3.11.7"
  }
 },
 "nbformat": 4,
 "nbformat_minor": 2
}
