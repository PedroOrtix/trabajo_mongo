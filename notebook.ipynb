{
 "cells": [
  {
   "cell_type": "code",
   "execution_count": null,
   "metadata": {},
   "outputs": [],
   "source": [
    "from queries_folder.get_queries import(get_loot,\n",
    "                                        get_loot_by_id,\n",
    "                                        get_monster,\n",
    "                                        get_monster_by_id,\n",
    "                                        get_dungeons,\n",
    "                                        get_dungeon_by_id,\n",
    "                                        get_room_by_id,\n",
    "                                        get_user,\n",
    "                                        get_user_by_email)\n",
    "\n",
    "from queries_folder.ppd_queries import (post_room, \n",
    "                                        post_loot, \n",
    "                                        post_monster)\n",
    "\n",
    "from queries_folder.ppd_queries import (put_room_connections,\n",
    "                                        put_room_loot,\n",
    "                                        put_room_monsters)\n",
    "\n",
    "from queries_folder.ppd_queries import (delete_loot, \n",
    "                                        delete_monster, \n",
    "                                        delete_room)"
   ]
  },
  {
   "cell_type": "code",
   "execution_count": null,
   "metadata": {},
   "outputs": [],
   "source": [
    "from pymongo import MongoClient\n",
    "import json\n",
    "\n",
    "# Conexión a MongoDB\n",
    "client = MongoClient('mongodb://localhost:27017/')\n",
    "\n",
    "# si existe la database, vamos a eliminarla\n",
    "if 'norsewind' in client.list_database_names():\n",
    "    client.drop_database('norsewind')\n",
    "    \n",
    "# Creando la base de datos\n",
    "db = client['norsewind']  # Nombre de la base de datos\n",
    "\n",
    "\n",
    "\n",
    "# Función para cargar datos desde un archivo JSON a una colección\n",
    "def load_data(collection_name, file_path):\n",
    "    collection = db[collection_name]\n",
    "    with open(file_path, 'r') as file:\n",
    "        data = json.load(file)\n",
    "    collection.insert_many(data)\n",
    "    print(f\"Datos insertados en {collection_name}\")\n",
    "\n",
    "# Cargando los datos a las colecciones\n",
    "load_data('loot', 'datos/loot.json')\n",
    "load_data('monsters', 'datos/monster.json')\n",
    "load_data('rooms', 'datos/rooms.json')\n",
    "load_data('users', 'datos/users.json')\n"
   ]
  },
  {
   "cell_type": "markdown",
   "metadata": {},
   "source": [
    "### GET QUERIES"
   ]
  },
  {
   "cell_type": "code",
   "execution_count": null,
   "metadata": {},
   "outputs": [],
   "source": [
    "# get_loot()\n",
    "print(\"Fetching all loot items:\")\n",
    "get_loot(db)"
   ]
  },
  {
   "cell_type": "code",
   "execution_count": null,
   "metadata": {},
   "outputs": [],
   "source": [
    "# get_loot_by_id()\n",
    "print(\"Fetching all loot items:\")\n",
    "get_loot_by_id(db, 0)"
   ]
  },
  {
   "cell_type": "code",
   "execution_count": null,
   "metadata": {},
   "outputs": [],
   "source": [
    "# get_monster()\n",
    "print(\"\\nFetching all monsters:\")\n",
    "get_monster(db)"
   ]
  },
  {
   "cell_type": "code",
   "execution_count": null,
   "metadata": {},
   "outputs": [],
   "source": [
    "# get_monster_by_id()\n",
    "print(\"\\nFetching details of a specific monster by ID (assuming an ID of 1):\")\n",
    "get_monster_by_id(db, 1)"
   ]
  },
  {
   "cell_type": "code",
   "execution_count": null,
   "metadata": {},
   "outputs": [],
   "source": [
    "# get_dungeons()\n",
    "print(\"All Dungeons:\")\n",
    "get_dungeons(db)"
   ]
  },
  {
   "cell_type": "code",
   "execution_count": null,
   "metadata": {},
   "outputs": [],
   "source": [
    "# get_dungeon_by_id()\n",
    "print(\"\\nDungeon Details for Dungeon ID 0:\")\n",
    "with open(\"get_dungeon_by_id.json\", \"w\") as file:\n",
    "    result = get_dungeon_by_id(db, 11)\n",
    "    # save the file\n",
    "    json.dump(result, file, indent=4)"
   ]
  },
  {
   "cell_type": "code",
   "execution_count": null,
   "metadata": {},
   "outputs": [],
   "source": [
    "# get_room_by_id()\n",
    "print(\"\\nFetching details of a specific room by ID (assuming an ID of 100):\")\n",
    "\n",
    "with open(\"get_room_by_id.json\", \"w\") as file:\n",
    "    result = get_room_by_id(db, 100)\n",
    "    # save the file\n",
    "    json.dump(result, file, indent=4)\n"
   ]
  },
  {
   "cell_type": "code",
   "execution_count": null,
   "metadata": {},
   "outputs": [],
   "source": [
    "# get_user()\n",
    "print(\"\\nFetching all users:\")\n",
    "get_user(db)"
   ]
  },
  {
   "cell_type": "code",
   "execution_count": null,
   "metadata": {},
   "outputs": [],
   "source": [
    "# get_user_by_email()\n",
    "print(\"\\nFetching details of a specific user by email (assuming email 'aaoki@example.com'):\")\n",
    "get_user_by_email(db, 'aaoki@example.com')"
   ]
  },
  {
   "cell_type": "markdown",
   "metadata": {},
   "source": [
    "### POST QUERIES"
   ]
  },
  {
   "cell_type": "code",
   "execution_count": null,
   "metadata": {},
   "outputs": [],
   "source": [
    "# Example usages of the POST and DELETE functions\n",
    "# Note: Make sure to replace placeholder values with actual data suitable for your database\n",
    "\n",
    "# post_monster()\n",
    "print(\"\\nAdding a new monster:\")\n",
    "post_monster(db, 'Goblin', 'NPC', 5, 'Dark Forest', 120.0, 5)\n"
   ]
  },
  {
   "cell_type": "code",
   "execution_count": null,
   "metadata": {},
   "outputs": [],
   "source": [
    "# post_loot()\n",
    "print(\"\\nAdding new loot:\")\n",
    "post_loot(db, 'Sword of Truth', 'Weapon', 'Sword', '2kg', 150)"
   ]
  },
  {
   "cell_type": "code",
   "execution_count": null,
   "metadata": {},
   "outputs": [],
   "source": [
    "# post_room()\n",
    "print(\"\\nAdding a new room:\")\n",
    "post_room(\n",
    "    db,\n",
    "    dungeon_id=101,\n",
    "    dungeon_name=\"Catacombs of the Damned\",\n",
    "    dungeon_lore=\"An ancient burial site filled with unspeakable horrors.\",\n",
    "    room_name=\"Entrance Hall\",\n",
    "    rooms_connected=[102, 103],\n",
    "    inWP=\"North Gate\",\n",
    "    outWP=\"South Vault\"\n",
    ")"
   ]
  },
  {
   "cell_type": "markdown",
   "metadata": {},
   "source": [
    "### PUT QUERIES"
   ]
  },
  {
   "cell_type": "code",
   "execution_count": null,
   "metadata": {},
   "outputs": [],
   "source": [
    "# put_room_monsters()\n",
    "print(\"\\nActualizar los mounstruos de una room:\")\n",
    "put_room_monsters(\n",
    "    db,\n",
    "    room_id=105,\n",
    "    monsters=[201, 202]\n",
    ")"
   ]
  },
  {
   "cell_type": "code",
   "execution_count": null,
   "metadata": {},
   "outputs": [],
   "source": [
    "# put_room_loot()\n",
    "print(\"\\nActualizar los loot de una room:\")\n",
    "put_room_loot(\n",
    "    db,\n",
    "    room_id=105,\n",
    "    loot=[301, 302]\n",
    ")"
   ]
  },
  {
   "cell_type": "code",
   "execution_count": null,
   "metadata": {},
   "outputs": [],
   "source": [
    "# put_rooms_connections()\n",
    "print(\"\\nActualizar las conexiones de una room:\")\n",
    "put_room_connections(\n",
    "    db,\n",
    "    room_id=105,\n",
    "    connections=[104, 106]\n",
    ")"
   ]
  },
  {
   "cell_type": "markdown",
   "metadata": {},
   "source": [
    "### DELETE QUERIES"
   ]
  },
  {
   "cell_type": "code",
   "execution_count": null,
   "metadata": {},
   "outputs": [],
   "source": [
    "# DELETE operations\n",
    "# Note: You must ensure these IDs exist for deletion, or replace them with valid ones\n",
    "\n",
    "# delete_room()\n",
    "print(\"\\nDeleting a room:\")\n",
    "delete_room(db, 101)"
   ]
  },
  {
   "cell_type": "code",
   "execution_count": null,
   "metadata": {},
   "outputs": [],
   "source": [
    "# delte_monster()\n",
    "print(\"\\nDeleting a monster:\")\n",
    "print(delete_monster(db, 1))  # Ensure this ID exists"
   ]
  },
  {
   "cell_type": "code",
   "execution_count": null,
   "metadata": {},
   "outputs": [],
   "source": [
    "# delete_loot()\n",
    "print(\"\\nDeleting loot:\")\n",
    "print(delete_loot(db, 1))  # Ensure this ID exists"
   ]
  }
 ],
 "metadata": {
  "kernelspec": {
   "display_name": "Python 3",
   "language": "python",
   "name": "python3"
  },
  "language_info": {
   "codemirror_mode": {
    "name": "ipython",
    "version": 3
   },
   "file_extension": ".py",
   "mimetype": "text/x-python",
   "name": "python",
   "nbconvert_exporter": "python",
   "pygments_lexer": "ipython3",
   "version": "3.11.7"
  }
 },
 "nbformat": 4,
 "nbformat_minor": 2
}
